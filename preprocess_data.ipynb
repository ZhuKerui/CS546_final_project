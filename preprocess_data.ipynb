{
 "cells": [
  {
   "cell_type": "code",
   "execution_count": null,
   "metadata": {},
   "outputs": [],
   "source": [
    "import json\n",
    "import tqdm\n",
    "import sys\n",
    "\n",
    "sys.path.append('..')\n",
    "from preprocess_data import (raw_train_data_file, raw_dev_data_file, raw_test_data_file, generate_seq)"
   ]
  },
  {
   "cell_type": "code",
   "execution_count": null,
   "metadata": {},
   "outputs": [],
   "source": [
    "raw_train_data = json.load(open(raw_train_data_file))['entries']"
   ]
  },
  {
   "cell_type": "code",
   "execution_count": null,
   "metadata": {},
   "outputs": [],
   "source": [
    "data_samples = [data_sample[list(data_sample.keys())[0]] for data_sample in raw_train_data]"
   ]
  },
  {
   "cell_type": "code",
   "execution_count": null,
   "metadata": {},
   "outputs": [],
   "source": [
    "new_data_samples = []\n",
    "for data_sample in tqdm.tqdm(data_samples):\n",
    "    new_data_sample = data_sample.copy()\n",
    "    unused_labels = ['originaltriplesets', 'xml_id', 'size', 'shape', 'shape_type']\n",
    "    for label in unused_labels:\n",
    "        new_data_sample.pop(label)\n",
    "    triples = new_data_sample.pop('modifiedtripleset')\n",
    "    new_data_sample['input_seq'] = generate_seq(triples)\n",
    "    new_data_sample['target_sents'] = [sent['lex'] for sent in new_data_sample.pop('lexicalisations')]\n",
    "    new_data_samples.append(new_data_sample)"
   ]
  },
  {
   "cell_type": "code",
   "execution_count": null,
   "metadata": {},
   "outputs": [],
   "source": [
    "new_data_samples[0]"
   ]
  },
  {
   "cell_type": "code",
   "execution_count": null,
   "metadata": {},
   "outputs": [],
   "source": [
    "json.dumps(new_data_samples[0])"
   ]
  }
 ],
 "metadata": {
  "interpreter": {
   "hash": "ef5ebbdb7177042242d5c612e2b6c40616b7b35a1a7eb91b6720a1b19cc3ee4b"
  },
  "kernelspec": {
   "display_name": "Python 3.7.11 64-bit ('autoprompt': conda)",
   "language": "python",
   "name": "python3"
  },
  "language_info": {
   "codemirror_mode": {
    "name": "ipython",
    "version": 3
   },
   "file_extension": ".py",
   "mimetype": "text/x-python",
   "name": "python",
   "nbconvert_exporter": "python",
   "pygments_lexer": "ipython3",
   "version": "3.7.11"
  },
  "orig_nbformat": 4
 },
 "nbformat": 4,
 "nbformat_minor": 2
}
