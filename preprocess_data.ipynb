{
 "cells": [
  {
   "cell_type": "code",
   "execution_count": 3,
   "metadata": {},
   "outputs": [],
   "source": [
    "import json\n",
    "import tqdm\n",
    "import sys\n",
    "\n",
    "sys.path.append('..')\n",
    "from preprocess_data import (raw_train_data_file, raw_dev_data_file, raw_test_data_file, processed_dev_data_file, processed_test_data_file, processed_train_data_file, generate_seq)"
   ]
  },
  {
   "cell_type": "code",
   "execution_count": 4,
   "metadata": {},
   "outputs": [],
   "source": [
    "raw_train_data = json.load(open(raw_train_data_file))['entries']"
   ]
  },
  {
   "cell_type": "code",
   "execution_count": 5,
   "metadata": {},
   "outputs": [],
   "source": [
    "data_samples = [data_sample[list(data_sample.keys())[0]] for data_sample in raw_train_data]"
   ]
  },
  {
   "cell_type": "code",
   "execution_count": 6,
   "metadata": {},
   "outputs": [
    {
     "name": "stderr",
     "output_type": "stream",
     "text": [
      "100%|██████████| 12876/12876 [00:00<00:00, 42597.49it/s]\n"
     ]
    }
   ],
   "source": [
    "new_data_samples = []\n",
    "for data_sample in tqdm.tqdm(data_samples):\n",
    "    new_data_sample = data_sample.copy()\n",
    "    unused_labels = ['originaltriplesets', 'xml_id', 'size', 'shape', 'shape_type']\n",
    "    for label in unused_labels:\n",
    "        new_data_sample.pop(label)\n",
    "    triples = new_data_sample['modifiedtripleset']\n",
    "    new_data_sample['input_seq'], new_data_sample['properties'] = generate_seq(triples)\n",
    "    new_data_sample['target_sents'] = [sent['lex'] for sent in new_data_sample.pop('lexicalisations')]\n",
    "    new_data_samples.append(new_data_sample)"
   ]
  },
  {
   "cell_type": "code",
   "execution_count": 7,
   "metadata": {},
   "outputs": [
    {
     "data": {
      "text/plain": [
       "{'category': 'Airport',\n",
       " 'modifiedtripleset': [{'object': '\"Aarhus, Denmark\"',\n",
       "   'property': 'cityServed',\n",
       "   'subject': 'Aarhus_Airport'}],\n",
       " 'input_seq': ['Aarhus_Airport', '[P]', '\"Aarhus, Denmark\"'],\n",
       " 'properties': ['cityServed'],\n",
       " 'target_sents': ['The Aarhus is the airport of Aarhus, Denmark.',\n",
       "  'Aarhus Airport serves the city of Aarhus, Denmark.']}"
      ]
     },
     "execution_count": 7,
     "metadata": {},
     "output_type": "execute_result"
    }
   ],
   "source": [
    "new_data_samples[0]"
   ]
  },
  {
   "cell_type": "code",
   "execution_count": null,
   "metadata": {},
   "outputs": [],
   "source": [
    "json.dumps(new_data_samples[0])"
   ]
  },
  {
   "cell_type": "markdown",
   "metadata": {},
   "source": [
    "## Check entity"
   ]
  },
  {
   "cell_type": "code",
   "execution_count": 8,
   "metadata": {},
   "outputs": [],
   "source": [
    "with open(processed_train_data_file) as f_in:\n",
    "    train_data = [json.loads(line) for line in f_in]\n",
    "with open(processed_dev_data_file) as f_in:\n",
    "    dev_data = [json.loads(line) for line in f_in]"
   ]
  },
  {
   "cell_type": "code",
   "execution_count": 9,
   "metadata": {},
   "outputs": [
    {
     "data": {
      "text/plain": [
       "{'category': 'Airport',\n",
       " 'modifiedtripleset': [{'object': '\"Aarhus, Denmark\"',\n",
       "   'property': 'cityServed',\n",
       "   'subject': 'Aarhus_Airport'}],\n",
       " 'input_seq': ['Aarhus_Airport', '[P]', '\"Aarhus, Denmark\"'],\n",
       " 'properties': ['cityServed'],\n",
       " 'target_sents': ['The Aarhus is the airport of Aarhus, Denmark.',\n",
       "  'Aarhus Airport serves the city of Aarhus, Denmark.']}"
      ]
     },
     "execution_count": 9,
     "metadata": {},
     "output_type": "execute_result"
    }
   ],
   "source": [
    "train_data[0]"
   ]
  },
  {
   "cell_type": "code",
   "execution_count": 10,
   "metadata": {},
   "outputs": [
    {
     "name": "stdout",
     "output_type": "stream",
     "text": [
      "3105\n",
      "2003\n",
      "19\n",
      "\n",
      "373\n",
      "288\n",
      "0\n"
     ]
    }
   ],
   "source": [
    "train_entities_set = set()\n",
    "train_relation_set = set()\n",
    "for data in train_data:\n",
    "    train_entities_set.update([tri['subject'] for tri in data['modifiedtripleset']])\n",
    "    train_entities_set.update([tri['object'] for tri in data['modifiedtripleset']])\n",
    "    train_relation_set.update([tri['property'] for tri in data['modifiedtripleset']])\n",
    "\n",
    "dev_entities_set = set()\n",
    "dev_relation_set = set()\n",
    "train_relation_list = []\n",
    "for data in dev_data:\n",
    "    dev_entities_set.update([tri['subject'] for tri in data['modifiedtripleset']])\n",
    "    dev_entities_set.update([tri['object'] for tri in data['modifiedtripleset']])\n",
    "    dev_relation_set.update([tri['property'] for tri in data['modifiedtripleset']])\n",
    "    train_relation_list += [tri['property'] for tri in data['modifiedtripleset']]\n",
    "\n",
    "from collections import Counter\n",
    "\n",
    "c = Counter(train_relation_list)\n",
    "print(len(train_entities_set))\n",
    "print(len(dev_entities_set))\n",
    "uncovered_entities_set = dev_entities_set - train_entities_set\n",
    "print(len(uncovered_entities_set))\n",
    "print('')\n",
    "print(len(train_relation_set))\n",
    "print(len(dev_relation_set))\n",
    "uncovered_relation_set = dev_relation_set - train_relation_set\n",
    "print(len(uncovered_relation_set))"
   ]
  },
  {
   "cell_type": "code",
   "execution_count": 15,
   "metadata": {},
   "outputs": [
    {
     "data": {
      "text/plain": [
       "[('country', 349),\n",
       " ('leaderName', 207),\n",
       " ('location', 195),\n",
       " ('birthPlace', 194),\n",
       " ('isPartOf', 185),\n",
       " ('club', 138),\n",
       " ('ethnicGroup', 112),\n",
       " ('associatedBand/associatedMusicalArtist', 109),\n",
       " ('language', 97),\n",
       " ('genre', 94),\n",
       " ('region', 86),\n",
       " ('deathPlace', 84),\n",
       " ('ingredient', 83),\n",
       " ('capital', 82),\n",
       " ('ground', 53),\n",
       " ('battles', 53),\n",
       " ('manager', 48),\n",
       " ('nationality', 46),\n",
       " ('birthDate', 45),\n",
       " ('almaMater', 45),\n",
       " ('mainIngredients', 40),\n",
       " ('leaderTitle', 39),\n",
       " ('creator', 38),\n",
       " ('runwayLength', 36),\n",
       " ('operatingOrganisation', 35),\n",
       " ('demonym', 34),\n",
       " ('league', 34),\n",
       " ('city', 34),\n",
       " ('epoch', 34),\n",
       " ('cityServed', 32),\n",
       " ('successor', 32),\n",
       " ('elevationAboveTheSeaLevel_(in_metres)', 31),\n",
       " ('office (workedAt, workedAs)', 30),\n",
       " ('party', 29),\n",
       " ('numberOfMembers', 29),\n",
       " ('owner', 29),\n",
       " ('background', 28),\n",
       " ('engine', 28),\n",
       " ('was a crew member of', 28),\n",
       " ('dishVariation', 27),\n",
       " ('builder', 27),\n",
       " ('discoverer', 26),\n",
       " ('manufacturer', 26),\n",
       " ('stylisticOrigin', 25),\n",
       " ('operator', 25),\n",
       " ('occupation', 25),\n",
       " ('largestCity', 25),\n",
       " ('alternativeName', 25),\n",
       " ('relatedMeanOfTransportation', 25),\n",
       " ('mediaType', 25),\n",
       " ('status', 25),\n",
       " ('apoapsis', 23),\n",
       " ('state', 23),\n",
       " ('launchSite', 23),\n",
       " ('established', 23),\n",
       " ('author', 22),\n",
       " ('ISBN_number', 22),\n",
       " ('affiliation', 22),\n",
       " ('runwayName', 21),\n",
       " ('periapsis', 21),\n",
       " ('assembly', 21),\n",
       " ('activeYearsStartYear', 20),\n",
       " ('recordLabel', 20),\n",
       " ('leader', 20),\n",
       " ('publisher', 20),\n",
       " ('areaTotal', 19),\n",
       " ('commander', 19),\n",
       " ('season', 19),\n",
       " ('birthYear', 19),\n",
       " ('award', 18),\n",
       " ('course', 18),\n",
       " ('architect', 17),\n",
       " ('orbitalPeriod', 17),\n",
       " ('champions', 17),\n",
       " ('length', 17),\n",
       " ('origin', 16),\n",
       " ('designer', 16),\n",
       " ('abbreviation', 16),\n",
       " ('musicFusionGenre', 15),\n",
       " ('fullname', 15),\n",
       " ('escapeVelocity', 14),\n",
       " ('populationDensity', 13),\n",
       " ('precededBy', 13),\n",
       " ('OCLC_number', 13),\n",
       " ('shipBeam', 12),\n",
       " ('countryOrigin', 12),\n",
       " ('militaryBranch', 12),\n",
       " ('academicStaffSize', 12),\n",
       " ('dedicatedTo', 12),\n",
       " ('spokenIn', 12),\n",
       " ('material', 11),\n",
       " ('followedBy', 11),\n",
       " ('ISSN_number', 11),\n",
       " ('completionDate', 10),\n",
       " ('buildingStartDate', 10),\n",
       " ('floorCount', 10),\n",
       " ('starring', 10),\n",
       " ('campus', 10),\n",
       " ('academicDiscipline', 10),\n",
       " ('instrument', 10),\n",
       " ('currency', 10),\n",
       " ('youthclub', 9),\n",
       " ('keyPerson', 9),\n",
       " ('areaCode', 9),\n",
       " ('class', 9),\n",
       " ('residence', 9),\n",
       " ('powerType', 9),\n",
       " ('deathDate', 9),\n",
       " ('was selected by NASA', 9),\n",
       " ('numberOfStudents', 9),\n",
       " ('backup pilot', 8),\n",
       " ('activeYearsStartDate', 8),\n",
       " ('foundationPlace', 8),\n",
       " ('activeYearsEndDate', 8),\n",
       " ('architecturalStyle', 8),\n",
       " ('numberOfPages', 8),\n",
       " ('formerTeam', 8),\n",
       " ('bodyStyle', 8),\n",
       " ('attackAircraft', 8),\n",
       " ('significantBuilding', 8),\n",
       " ('countySeat', 7),\n",
       " ('added to the National Register of Historic Places', 7),\n",
       " ('mass', 7),\n",
       " ('temperature', 7),\n",
       " ('order', 7),\n",
       " ('finalFlight', 7),\n",
       " ('maidenFlight', 7),\n",
       " ('inOfficeWhileVicePresident', 7),\n",
       " ('dateOfRetirement', 7),\n",
       " ('debutTeam', 7),\n",
       " ('inOfficeWhilePrimeMinister', 7),\n",
       " ('has to its west', 7),\n",
       " ('derivative', 7),\n",
       " ('locationCity', 7),\n",
       " ('headquarter', 6),\n",
       " ('chairman', 6),\n",
       " ('currentTenants', 6),\n",
       " ('elevationAboveTheSeaLevel', 6),\n",
       " ('broadcastedBy', 6),\n",
       " ('division', 6),\n",
       " ('predecessor', 6),\n",
       " ('ReferenceNumber in the National Register of Historic Places', 6),\n",
       " ('comparable', 6),\n",
       " ('nativeName', 6),\n",
       " ('spouse', 6),\n",
       " ('director', 6),\n",
       " ('anthem', 6),\n",
       " ('president', 6),\n",
       " ('aircraftFighter', 6),\n",
       " ('awards', 5),\n",
       " ('affiliations', 5),\n",
       " ('height', 5),\n",
       " ('inaugurationDate', 5),\n",
       " ('yearOfConstruction', 5),\n",
       " ('averageSpeed', 5),\n",
       " ('series', 5),\n",
       " ('transmission', 5),\n",
       " ('nickname', 5),\n",
       " ('LCCN_number', 5),\n",
       " ('3rd_runway_SurfaceType', 5),\n",
       " ('tenant', 5),\n",
       " ('formerName', 5),\n",
       " ('firstAired', 4),\n",
       " ('genus', 4),\n",
       " ('isPartOfMilitaryConflict', 4),\n",
       " ('CODEN_code', 4),\n",
       " ('areaOfLand', 4),\n",
       " ('parentCompany', 4),\n",
       " (\"was given the 'Technical Campus' status by\", 4),\n",
       " ('sportsOffered', 4),\n",
       " ('sportsGoverningBody', 4),\n",
       " ('ICAO_Location_Identifier', 4),\n",
       " ('floorArea', 4),\n",
       " ('dean', 4),\n",
       " ('governingBody', 4),\n",
       " ('doctoralStudent', 4),\n",
       " ('has to its southeast', 4),\n",
       " ('category', 4),\n",
       " ('numberOfPostgraduateStudents', 4),\n",
       " ('transportAircraft', 4),\n",
       " ('diameter', 4),\n",
       " ('coach', 3),\n",
       " ('postalCode', 3),\n",
       " ('rotationPeriod', 3),\n",
       " ('shipClass', 3),\n",
       " ('christeningDate', 3),\n",
       " ('topSpeed', 3),\n",
       " ('inOfficeWhileMonarch', 3),\n",
       " ('patronSaint', 3),\n",
       " ('2nd_runway_SurfaceType', 3),\n",
       " ('address', 3),\n",
       " ('founder', 3),\n",
       " ('family', 3),\n",
       " ('alternativeNames', 3),\n",
       " ('discovered', 3),\n",
       " ('has to its north', 3),\n",
       " ('municipality', 3),\n",
       " ('legislature', 3),\n",
       " ('higher', 3),\n",
       " ('associatedRocket', 3),\n",
       " ('mayor', 2),\n",
       " ('musicSubgenre', 2),\n",
       " ('position', 2),\n",
       " ('generalManager', 2),\n",
       " ('fullName', 2),\n",
       " ('servingTemperature', 2),\n",
       " ('protein', 2),\n",
       " ('productionEndYear', 2),\n",
       " ('maidenVoyage', 2),\n",
       " ('1st_runway_SurfaceType', 2),\n",
       " ('minimumTemperature', 2),\n",
       " ('stateOfOrigin', 2),\n",
       " ('employer', 2),\n",
       " ('shipLaunch', 2),\n",
       " ('fate', 2),\n",
       " ('subsidiary', 2),\n",
       " ('timeInSpace', 2),\n",
       " ('draftRound', 2),\n",
       " ('draftPick', 2),\n",
       " ('bedCount', 2),\n",
       " ('density', 2),\n",
       " ('surfaceArea', 2),\n",
       " ('cylinderCount', 2),\n",
       " ('modelYears', 2),\n",
       " ('site', 2),\n",
       " ('motto', 2),\n",
       " ('river', 2),\n",
       " ('editor', 2),\n",
       " ('LibraryofCongressClassification', 2),\n",
       " ('firstPublicationYear', 2),\n",
       " ('bandMember', 2),\n",
       " ('deathCause', 2),\n",
       " ('wheelbase', 2),\n",
       " ('buildDate', 2),\n",
       " ('layout', 2),\n",
       " ('colour', 2),\n",
       " ('profession', 2),\n",
       " ('placeOfBirth', 2),\n",
       " ('officialLanguage', 2),\n",
       " ('compete in', 2),\n",
       " ('significantProject', 2),\n",
       " ('district', 2),\n",
       " ('owningOrganisation', 2),\n",
       " ('chief', 1),\n",
       " ('distributingCompany', 1),\n",
       " ('mascot', 1),\n",
       " ('child', 1),\n",
       " ('shipInService', 1),\n",
       " ('serviceStartYear', 1),\n",
       " ('part', 1),\n",
       " ('EISSN_number', 1),\n",
       " ('impactFactor', 1),\n",
       " ('notableWork', 1),\n",
       " ('elevationAboveTheSeaLevel_(in_feet)', 1),\n",
       " ('4th_runway_SurfaceType', 1),\n",
       " ('similarDish', 1),\n",
       " ('product', 1),\n",
       " ('inOfficeWhilePresident', 1),\n",
       " ('officialSchoolColour', 1),\n",
       " ('headquarters', 1),\n",
       " ('senators', 1),\n",
       " ('fossil', 1),\n",
       " ('chancellor', 1),\n",
       " ('maximumTemperature', 1),\n",
       " ('firstAppearanceInFilm', 1),\n",
       " ('carbohydrate', 1),\n",
       " ('shipOrdered', 1),\n",
       " ('locationCountry', 1),\n",
       " ('has to its southwest', 1),\n",
       " ('latinName', 1),\n",
       " ('draftTeam', 1),\n",
       " ('hometown', 1),\n",
       " ('meanTemperature', 1),\n",
       " ('UTCOffset', 1),\n",
       " ('populationTotal', 1),\n",
       " ('foundedBy', 1),\n",
       " ('dateOfDeath', 1),\n",
       " ('frequency', 1),\n",
       " ('partsType', 1),\n",
       " ('currentclub', 1),\n",
       " ('cost', 1),\n",
       " ('areaOfWater', 1),\n",
       " ('lastAired', 1),\n",
       " ('hasDeputy', 1),\n",
       " ('has to its northeast', 1),\n",
       " ('was awarded', 1),\n",
       " ('nearestCity', 1),\n",
       " ('has to its northwest', 1)]"
      ]
     },
     "execution_count": 15,
     "metadata": {},
     "output_type": "execute_result"
    }
   ],
   "source": [
    "c.most_common(288)"
   ]
  },
  {
   "cell_type": "code",
   "execution_count": 12,
   "metadata": {},
   "outputs": [
    {
     "data": {
      "text/plain": [
       "288"
      ]
     },
     "execution_count": 12,
     "metadata": {},
     "output_type": "execute_result"
    }
   ],
   "source": [
    "len(c)"
   ]
  },
  {
   "cell_type": "code",
   "execution_count": 31,
   "metadata": {},
   "outputs": [],
   "source": [
    "import re\n",
    "def camel_case_split(identifier):\n",
    "    matches = re.finditer('.+?(?:(?<=[a-z])(?=[A-Z])|(?<=[A-Z])(?=[A-Z][a-z])|$)', identifier)\n",
    "    return [m.group(0) for m in matches]\n",
    "def split_label(label):\n",
    "    label_split = re.split('[^a-zA-Z0-9\\n\\.]', label)\n",
    "    return sum([camel_case_split(label2) for label2 in label_split],[])"
   ]
  },
  {
   "cell_type": "code",
   "execution_count": 1,
   "metadata": {},
   "outputs": [],
   "source": [
    "import yaml"
   ]
  },
  {
   "cell_type": "code",
   "execution_count": 2,
   "metadata": {},
   "outputs": [],
   "source": [
    "with open('test.yaml') as f_in:\n",
    "    config = yaml.safe_load(f_in)"
   ]
  },
  {
   "cell_type": "code",
   "execution_count": 3,
   "metadata": {},
   "outputs": [
    {
     "data": {
      "text/plain": [
       "dict_keys(['dataset', 'val_split_ratio', 'pretrained_word_emb_name', 'out_dir', 'graph_construction_args', 'gl_metric_type', 'gl_epsilon', 'gl_top_k', 'gl_num_heads', 'gl_num_hidden', 'gl_smoothness_ratio', 'gl_sparsity_ratio', 'gl_connectivity_ratio', 'init_adj_alpha', 'word_dropout', 'rnn_dropout', 'no_fix_word_emb', 'emb_strategy', 'gnn', 'gnn_direction_option', 'gnn_num_layers', 'num_hidden', 'graph_pooling', 'max_pool_linear_proj', 'gnn_dropout', 'gat_attn_dropout', 'gat_negative_slope', 'gat_num_heads', 'gat_num_out_heads', 'gat_residual', 'graphsage_aggreagte_type', 'seed', 'batch_size', 'epochs', 'patience', 'lr', 'lr_patience', 'lr_reduce_factor', 'num_workers', 'gpu', 'no_cuda'])"
      ]
     },
     "execution_count": 3,
     "metadata": {},
     "output_type": "execute_result"
    }
   ],
   "source": [
    "config.keys()"
   ]
  }
 ],
 "metadata": {
  "interpreter": {
   "hash": "e8c281ad0c188cff320738b9be35a5be73f13438269e85a15eefb2cecdc48773"
  },
  "kernelspec": {
   "display_name": "Python 3.7.11 64-bit ('autoprompt': conda)",
   "name": "python3"
  },
  "language_info": {
   "codemirror_mode": {
    "name": "ipython",
    "version": 3
   },
   "file_extension": ".py",
   "mimetype": "text/x-python",
   "name": "python",
   "nbconvert_exporter": "python",
   "pygments_lexer": "ipython3",
   "version": "3.7.11"
  },
  "orig_nbformat": 4
 },
 "nbformat": 4,
 "nbformat_minor": 2
}
