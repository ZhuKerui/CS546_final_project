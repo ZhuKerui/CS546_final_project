{
 "cells": [
  {
   "cell_type": "code",
   "execution_count": 1,
   "source": [
    "import json\n",
    "import tqdm\n",
    "import sys\n",
    "\n",
    "sys.path.append('..')\n",
    "from preprocess_data import (raw_train_data_file, raw_dev_data_file, raw_test_data_file, processed_dev_data_file, processed_test_data_file, processed_train_data_file, generate_seq)"
   ],
   "outputs": [],
   "metadata": {}
  },
  {
   "cell_type": "code",
   "execution_count": 2,
   "source": [
    "raw_train_data = json.load(open(raw_train_data_file))['entries']"
   ],
   "outputs": [],
   "metadata": {}
  },
  {
   "cell_type": "code",
   "execution_count": 3,
   "source": [
    "data_samples = [data_sample[list(data_sample.keys())[0]] for data_sample in raw_train_data]"
   ],
   "outputs": [],
   "metadata": {}
  },
  {
   "cell_type": "code",
   "execution_count": 4,
   "source": [
    "new_data_samples = []\n",
    "for data_sample in tqdm.tqdm(data_samples):\n",
    "    new_data_sample = data_sample.copy()\n",
    "    unused_labels = ['originaltriplesets', 'xml_id', 'size', 'shape', 'shape_type']\n",
    "    for label in unused_labels:\n",
    "        new_data_sample.pop(label)\n",
    "    triples = new_data_sample['modifiedtripleset']\n",
    "    new_data_sample['input_seq'], new_data_sample['properties'] = generate_seq(triples)\n",
    "    new_data_sample['target_sents'] = [sent['lex'] for sent in new_data_sample.pop('lexicalisations')]\n",
    "    new_data_samples.append(new_data_sample)"
   ],
   "outputs": [
    {
     "output_type": "stream",
     "name": "stderr",
     "text": [
      "100%|██████████| 12876/12876 [00:00<00:00, 53692.30it/s]\n"
     ]
    }
   ],
   "metadata": {}
  },
  {
   "cell_type": "code",
   "execution_count": 5,
   "source": [
    "new_data_samples[0]"
   ],
   "outputs": [
    {
     "output_type": "execute_result",
     "data": {
      "text/plain": [
       "{'category': 'Airport',\n",
       " 'modifiedtripleset': [{'object': '\"Aarhus, Denmark\"',\n",
       "   'property': 'cityServed',\n",
       "   'subject': 'Aarhus_Airport'}],\n",
       " 'input_seq': ['Aarhus_Airport', '[P]', '\"Aarhus, Denmark\"'],\n",
       " 'properties': ['cityServed'],\n",
       " 'target_sents': ['The Aarhus is the airport of Aarhus, Denmark.',\n",
       "  'Aarhus Airport serves the city of Aarhus, Denmark.']}"
      ]
     },
     "metadata": {},
     "execution_count": 5
    }
   ],
   "metadata": {}
  },
  {
   "cell_type": "code",
   "execution_count": null,
   "source": [
    "json.dumps(new_data_samples[0])"
   ],
   "outputs": [],
   "metadata": {}
  },
  {
   "cell_type": "markdown",
   "source": [
    "## Check entity"
   ],
   "metadata": {}
  },
  {
   "cell_type": "code",
   "execution_count": 2,
   "source": [
    "with open(processed_train_data_file) as f_in:\n",
    "    train_data = [json.loads(line) for line in f_in]\n",
    "with open(processed_dev_data_file) as f_in:\n",
    "    dev_data = [json.loads(line) for line in f_in]"
   ],
   "outputs": [],
   "metadata": {}
  },
  {
   "cell_type": "code",
   "execution_count": null,
   "source": [
    "train_data[0]"
   ],
   "outputs": [],
   "metadata": {}
  },
  {
   "cell_type": "code",
   "execution_count": 4,
   "source": [
    "train_entities_set = set()\n",
    "train_relation_set = set()\n",
    "for data in train_data:\n",
    "    train_entities_set.update([tri['subject'] for tri in data['modifiedtripleset']])\n",
    "    train_entities_set.update([tri['object'] for tri in data['modifiedtripleset']])\n",
    "    train_relation_set.update([tri['property'] for tri in data['modifiedtripleset']])\n",
    "\n",
    "dev_entities_set = set()\n",
    "dev_relation_set = set()\n",
    "train_relation_list = []\n",
    "for data in dev_data:\n",
    "    dev_entities_set.update([tri['subject'] for tri in data['modifiedtripleset']])\n",
    "    dev_entities_set.update([tri['object'] for tri in data['modifiedtripleset']])\n",
    "    dev_relation_set.update([tri['property'] for tri in data['modifiedtripleset']])\n",
    "    train_relation_list += [tri['property'] for tri in data['modifiedtripleset']]\n",
    "\n",
    "from collections import Counter\n",
    "\n",
    "c = Counter(train_relation_list)\n",
    "print(len(train_entities_set))\n",
    "print(len(dev_entities_set))\n",
    "uncovered_entities_set = dev_entities_set - train_entities_set\n",
    "print(len(uncovered_entities_set))\n",
    "print('')\n",
    "print(len(train_relation_set))\n",
    "print(len(dev_relation_set))\n",
    "uncovered_relation_set = dev_relation_set - train_relation_set\n",
    "print(len(uncovered_relation_set))"
   ],
   "outputs": [
    {
     "output_type": "stream",
     "name": "stdout",
     "text": [
      "3105\n",
      "2003\n",
      "19\n",
      "\n",
      "373\n",
      "288\n",
      "0\n"
     ]
    }
   ],
   "metadata": {}
  },
  {
   "cell_type": "code",
   "execution_count": 5,
   "source": [
    "c.most_common(20)"
   ],
   "outputs": [
    {
     "output_type": "execute_result",
     "data": {
      "text/plain": [
       "[('country', 349),\n",
       " ('leaderName', 207),\n",
       " ('location', 195),\n",
       " ('birthPlace', 194),\n",
       " ('isPartOf', 185),\n",
       " ('club', 138),\n",
       " ('ethnicGroup', 112),\n",
       " ('associatedBand/associatedMusicalArtist', 109),\n",
       " ('language', 97),\n",
       " ('genre', 94),\n",
       " ('region', 86),\n",
       " ('deathPlace', 84),\n",
       " ('ingredient', 83),\n",
       " ('capital', 82),\n",
       " ('ground', 53),\n",
       " ('battles', 53),\n",
       " ('manager', 48),\n",
       " ('nationality', 46),\n",
       " ('birthDate', 45),\n",
       " ('almaMater', 45)]"
      ]
     },
     "metadata": {},
     "execution_count": 5
    }
   ],
   "metadata": {}
  }
 ],
 "metadata": {
  "interpreter": {
   "hash": "e8c281ad0c188cff320738b9be35a5be73f13438269e85a15eefb2cecdc48773"
  },
  "kernelspec": {
   "name": "python3",
   "display_name": "Python 3.7.11 64-bit ('autoprompt': conda)"
  },
  "language_info": {
   "codemirror_mode": {
    "name": "ipython",
    "version": 3
   },
   "file_extension": ".py",
   "mimetype": "text/x-python",
   "name": "python",
   "nbconvert_exporter": "python",
   "pygments_lexer": "ipython3",
   "version": "3.7.11"
  },
  "orig_nbformat": 4
 },
 "nbformat": 4,
 "nbformat_minor": 2
}